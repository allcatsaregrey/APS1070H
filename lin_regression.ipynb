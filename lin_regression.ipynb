{
  "nbformat": 4,
  "nbformat_minor": 0,
  "metadata": {
    "colab": {
      "name": "MattMcFee_1005449631_Project_4.ipynb",
      "provenance": [],
      "collapsed_sections": []
    },
    "kernelspec": {
      "display_name": "Python 3",
      "language": "python",
      "name": "python3"
    },
    "language_info": {
      "codemirror_mode": {
        "name": "ipython",
        "version": 3
      },
      "file_extension": ".py",
      "mimetype": "text/x-python",
      "name": "python",
      "nbconvert_exporter": "python",
      "pygments_lexer": "ipython3",
      "version": "3.7.4"
    }
  },
  "cells": [
    {
      "cell_type": "markdown",
      "metadata": {
        "colab_type": "text",
        "id": "OTpnyUEJrAjE"
      },
      "source": [
        "# Project 4, APS1070 Summer 2020\n",
        "#### **Linear Regression -  20 points**\n",
        "**Deadline: Aug 2, 23:00**\n",
        "\n",
        "**Academic Integrity**\n",
        "\n",
        "This project is individual - it is to be completed on your own. If you have questions, please post your query in the APS1070 Piazza Q&A forums (the answer might be useful to others!).\n",
        "\n",
        "Do not share your code with others, or post your work online. Do not submit code that you have not written yourself. Students suspected of plagiarism on a project, midterm or exam will be referred to the department for formal discipline for breaches of the Student Code of Conduct."
      ]
    },
    {
      "cell_type": "markdown",
      "metadata": {
        "colab_type": "text",
        "id": "fUdJ6xw3rJIG"
      },
      "source": [
        "Please fill out the following:\n",
        "\n",
        "\n",
        "*   Your **name**: Matthew McFee\n",
        "*   Your **student number**: 1005449631\n",
        "\n"
      ]
    },
    {
      "cell_type": "markdown",
      "metadata": {
        "colab_type": "text",
        "id": "o4UwjkNZ3NGk"
      },
      "source": [
        "## Part 1 - Getting Started [1 mark]"
      ]
    },
    {
      "cell_type": "markdown",
      "metadata": {
        "id": "Y62qieYVbct2",
        "colab_type": "text"
      },
      "source": [
        "In this project, we are designing a controller to manage the ailerons of an F16 Aircraft! \n",
        "![Ailerons](https://raw.githubusercontent.com/aps1070-2019/datasets/master/img/airplane.gif) [Ref](https://www.grc.nasa.gov/www/k-12/BGA/Mike/airplane_parts_act.htm) \n",
        "\n",
        "\n",
        "The features describe the airplane's status, and the target is to predict the `Goal` column, which is a command that our controller should issue."
      ]
    },
    {
      "cell_type": "code",
      "metadata": {
        "id": "wVI7N2nWbct3",
        "colab_type": "code",
        "colab": {}
      },
      "source": [
        "import pandas as pd \n",
        "\n",
        "df=pd.read_csv(\"https://raw.githubusercontent.com/aps1070-2019/datasets/master/F16L.csv\" , skipinitialspace=True)"
      ],
      "execution_count": null,
      "outputs": []
    },
    {
      "cell_type": "code",
      "metadata": {
        "id": "JfFJimKEtlaw",
        "colab_type": "code",
        "colab": {
          "base_uri": "https://localhost:8080/",
          "height": 34
        },
        "outputId": "fe528c7d-ae52-4162-b36d-49e4dda9d78c"
      },
      "source": [
        "df.head(10)\n",
        "\n",
        "df.shape"
      ],
      "execution_count": null,
      "outputs": [
        {
          "output_type": "execute_result",
          "data": {
            "text/plain": [
              "(13750, 41)"
            ]
          },
          "metadata": {
            "tags": []
          },
          "execution_count": 2
        }
      ]
    },
    {
      "cell_type": "markdown",
      "metadata": {
        "colab_type": "text",
        "id": "MKRMb9Ju3NGl"
      },
      "source": [
        "1. Split the dataset into training/validation sets (80% training, 20% validation). Note: While splitting use the value of **random state=41**.\n",
        "2. Standardize the data using StandardScaler from sklearn."
      ]
    },
    {
      "cell_type": "code",
      "metadata": {
        "id": "barDBI-f5Q9s",
        "colab_type": "code",
        "colab": {}
      },
      "source": [
        "# Import the necessary functions\n",
        "import numpy as np\n",
        "from sklearn.model_selection import train_test_split\n",
        "from sklearn.preprocessing import StandardScaler\n",
        "\n",
        "# Select the appropriate columns for X and y\n",
        "X = df.iloc[:,:-1].values\n",
        "y = df.iloc[:,-1].values\n",
        "\n",
        "# Split the data into training and test sets\n",
        "X_train, X_test, y_train, y_test = train_test_split(X, y, test_size=0.2,\n",
        "                                                    random_state=41)\n",
        "\n",
        "# Scale the data appropriately \n",
        "\n",
        "sc = StandardScaler()\n",
        "\n",
        "# Fit to the training data to prevent leakage of test data information into\n",
        "# training \n",
        "\n",
        "sc.fit(X_train)\n",
        "\n",
        "X_train = sc.transform(X_train)\n",
        "X_test = sc.transform(X_test)\n",
        "\n",
        "train_bias = np.ones(X_train.shape[0])\n",
        "test_bias = np.ones(X_test.shape[0])\n",
        "\n",
        "X_train_an = np.concatenate((X_train, train_bias.reshape(-1,1)), 1)\n",
        "X_test_an = np.concatenate((X_test, test_bias.reshape(-1,1)), 1)"
      ],
      "execution_count": null,
      "outputs": []
    },
    {
      "cell_type": "markdown",
      "metadata": {
        "id": "EQ6KBnbpbcuE",
        "colab_type": "text"
      },
      "source": [
        "## Part 2 - Direct Solution [1 mark]"
      ]
    },
    {
      "cell_type": "markdown",
      "metadata": {
        "colab_type": "text",
        "id": "qh9g1ead3NG-"
      },
      "source": [
        "Implement the direct solution for linear regression on the dataset above (without regularizer).\n",
        "Report training and validation error."
      ]
    },
    {
      "cell_type": "code",
      "metadata": {
        "id": "FzLJgLvy5Re4",
        "colab_type": "code",
        "colab": {
          "base_uri": "https://localhost:8080/",
          "height": 52
        },
        "outputId": "332752fd-6242-47fd-9b54-00737624464c"
      },
      "source": [
        "# Import RMSE function from sklearn\n",
        "from sklearn.metrics import mean_squared_error\n",
        "import numpy as np\n",
        "\n",
        "# RMSE function as seen in the tutorial\n",
        "def rmse(y_pred, y):\n",
        "    return np.sqrt(mean_squared_error(y_pred, y))\n",
        "\n",
        "# This is the analytical solution for the weights\n",
        "\n",
        "W_an = np.dot(np.linalg.inv(np.dot(X_train_an.T, X_train_an)),\n",
        "              np.dot(X_train_an.T, y_train))\n",
        "\n",
        "# Predicted values for training set and error\n",
        "\n",
        "y_pred_train = np.dot(X_train_an, W_an)\n",
        "\n",
        "train_error = rmse(y_pred_train, y_train)\n",
        "\n",
        "# Predicted values for test set and error\n",
        "\n",
        "y_pred_test = np.dot(X_test_an, W_an)\n",
        "\n",
        "test_error = rmse(y_pred_test, y_test)\n",
        "\n",
        "# Print the values \n",
        "\n",
        "print(\"The RMSE for the training set is: \", train_error)\n",
        "print(\"The RMSE for the test set is: \", test_error)"
      ],
      "execution_count": null,
      "outputs": [
        {
          "output_type": "stream",
          "text": [
            "The RMSE for the training set is:  0.00017967071725802483\n",
            "The RMSE for the test set is:  0.00017545534760897958\n"
          ],
          "name": "stdout"
        }
      ]
    },
    {
      "cell_type": "code",
      "metadata": {
        "id": "WBNyI304clkD",
        "colab_type": "code",
        "colab": {
          "base_uri": "https://localhost:8080/",
          "height": 208
        },
        "outputId": "30cc43ee-3fff-4106-c640-bee64186b82b"
      },
      "source": [
        "W_an"
      ],
      "execution_count": null,
      "outputs": [
        {
          "output_type": "execute_result",
          "data": {
            "text/plain": [
              "array([ 7.61565118e-05,  6.49208109e-06, -1.30444167e-04,  4.19623763e-06,\n",
              "        9.49624328e-05, -8.17931025e-05,  2.39295793e-04, -3.31928641e-05,\n",
              "        3.55274449e-05,  6.41741252e-09,  7.30150860e-05,  8.85374632e-03,\n",
              "       -8.93425356e-03, -1.12290820e-03,  1.02159610e-03, -6.27753683e-03,\n",
              "        6.33855577e-03,  1.60680910e-03, -1.66784232e-03, -9.57871920e-05,\n",
              "        1.04625396e-04, -3.92750440e-04,  3.46634230e-04,  1.54174852e-03,\n",
              "       -1.17141329e-05, -1.26561527e-05, -1.74808104e-06,  4.27169872e-06,\n",
              "       -3.02451292e-06,  2.93500556e-05, -8.71274784e-06,  3.79723746e-06,\n",
              "       -9.67677684e-06,  1.51980793e-06, -3.28392544e-06, -3.46585583e-07,\n",
              "       -3.54531358e-06, -4.70715058e-06, -2.54515661e-05, -1.65420607e-03,\n",
              "       -8.71172727e-04])"
            ]
          },
          "metadata": {
            "tags": []
          },
          "execution_count": 5
        }
      ]
    },
    {
      "cell_type": "markdown",
      "metadata": {
        "colab_type": "text",
        "id": "tceGCk1V3NG_"
      },
      "source": [
        "## Part 3 - Gradient Descent (GD) [2 marks]"
      ]
    },
    {
      "cell_type": "markdown",
      "metadata": {
        "colab_type": "text",
        "id": "v9DMAs3I3NHB"
      },
      "source": [
        "1. Implement gradient descent (full-batch) for linear regression using a fixed learning rate of $\\alpha= 1e-2$. You should compute the gradients yourself! First try to implement it without looking at other resources, but if you need a hint take a look [here](https://towardsdatascience.com/gradient-descent-explanation-implementation-c74005ff7dd1) and [here](https://ml-cheatsheet.readthedocs.io/en/latest/gradient_descent.html).\n",
        "\n",
        "2. Run the gradient descent for a fixed number of epochs (based on convergence) and verify that the results are closely approximate the direct solution."
      ]
    },
    {
      "cell_type": "code",
      "metadata": {
        "id": "G3KOOJ8m5SAs",
        "colab_type": "code",
        "colab": {}
      },
      "source": [
        "# Gradient descent\n",
        "import copy\n",
        "from sklearn.utils import shuffle\n",
        "\n",
        "def calculate_values(W, X):\n",
        "  y_pred = np.dot(X, W[1:]) + W[0]\n",
        "  # y_pred = np.dot(X, W)\n",
        "  return y_pred \n",
        "\n",
        "def calculate_error(y_pred, y_true):\n",
        "  return (y_true - y_pred)\n",
        "\n",
        "def update_weights(X, error, W, learning_rate):\n",
        "\n",
        "  # Ask about dropping the 2 \n",
        "  loss_1 = -2*(learning_rate/X.shape[0])*(np.dot(error, X))\n",
        "  #loss_1 = -1*(learning_rate)*(np.dot(error, X))\n",
        "  loss_2 = -2*learning_rate*error.sum()/X.shape[0]\n",
        "  #loss_2 = -1*(learning_rate)*error.sum()\n",
        "  W[1:] = W[1:] - loss_1\n",
        "  W[0] = W[0] - loss_2\n",
        "  return W\n",
        "\n",
        "def gradient_descent(X_train, y_train, learning_rate, n_iter, tol):\n",
        "\n",
        "  # Initialize, safe to use zeros based on the analytical solution \n",
        "  W = np.zeros(41)\n",
        "\n",
        "  # List to store the RMSE\n",
        "  # rmse_values = []\n",
        "\n",
        "  # Initialize rmse values to avoid call before defined error\n",
        "  rmse_value = 0\n",
        "  rmse_old = 0\n",
        "\n",
        "  for i in range(1, n_iter+1):\n",
        "\n",
        "    # Store the old rmse value from last iteration\n",
        "    rmse_old = copy.deepcopy(rmse_value)\n",
        "\n",
        "    y_pred = calculate_values(W, X_train)\n",
        "    error = calculate_error(y_pred, y_train)\n",
        "    W = update_weights(X_train, error, W, learning_rate)\n",
        "    rmse_value = rmse(y_pred, y_train)\n",
        "\n",
        "    # Break early when the target tol is reached\n",
        "    if abs(rmse_value - rmse_old) <= tol:\n",
        "      break\n",
        "    else:\n",
        "      continue\n",
        "\n",
        "  return W, i, rmse_value\n",
        "\n",
        "W, i, rmse_value = gradient_descent(X_train, y_train, 0.01, 10000, 1e-10)"
      ],
      "execution_count": null,
      "outputs": []
    },
    {
      "cell_type": "code",
      "metadata": {
        "id": "kp86Z3RxwjOv",
        "colab_type": "code",
        "colab": {
          "base_uri": "https://localhost:8080/",
          "height": 104
        },
        "outputId": "97d4285e-b2c2-4731-bbe2-38a6b287e45f"
      },
      "source": [
        "y_train_pred = np.dot(X_train, W[1:]) + W[0]\n",
        "y_test_pred = np.dot(X_test, W[1:]) + W[0]\n",
        "\n",
        "print(rmse(y_train_pred, y_train))\n",
        "print(rmse(y_test_pred, y_test))\n",
        "print(i)\n",
        "\n",
        "# Check the intercepts (they match)\n",
        "print(W[0])\n",
        "print(W_an[-1])"
      ],
      "execution_count": null,
      "outputs": [
        {
          "output_type": "stream",
          "text": [
            "0.00017413143241967502\n",
            "0.00017207438668957696\n",
            "650\n",
            "-0.0008711710012223278\n",
            "-0.0008711727272727212\n"
          ],
          "name": "stdout"
        }
      ]
    },
    {
      "cell_type": "code",
      "metadata": {
        "id": "ZDh6zxGAOHPH",
        "colab_type": "code",
        "colab": {
          "base_uri": "https://localhost:8080/",
          "height": 208
        },
        "outputId": "c007d5d5-365a-409e-f1bd-9ffdbd145e1c"
      },
      "source": [
        "W_an"
      ],
      "execution_count": null,
      "outputs": [
        {
          "output_type": "execute_result",
          "data": {
            "text/plain": [
              "array([ 7.61565118e-05,  6.49208109e-06, -1.30444167e-04,  4.19623763e-06,\n",
              "        9.49624328e-05, -8.17931025e-05,  2.39295793e-04, -3.31928641e-05,\n",
              "        3.55274449e-05,  6.41741252e-09,  7.30150860e-05,  8.85374632e-03,\n",
              "       -8.93425356e-03, -1.12290820e-03,  1.02159610e-03, -6.27753683e-03,\n",
              "        6.33855577e-03,  1.60680910e-03, -1.66784232e-03, -9.57871920e-05,\n",
              "        1.04625396e-04, -3.92750440e-04,  3.46634230e-04,  1.54174852e-03,\n",
              "       -1.17141329e-05, -1.26561527e-05, -1.74808104e-06,  4.27169872e-06,\n",
              "       -3.02451292e-06,  2.93500556e-05, -8.71274784e-06,  3.79723746e-06,\n",
              "       -9.67677684e-06,  1.51980793e-06, -3.28392544e-06, -3.46585583e-07,\n",
              "       -3.54531358e-06, -4.70715058e-06, -2.54515661e-05, -1.65420607e-03,\n",
              "       -8.71172727e-04])"
            ]
          },
          "metadata": {
            "tags": []
          },
          "execution_count": 8
        }
      ]
    },
    {
      "cell_type": "code",
      "metadata": {
        "id": "Fu_jO-YXOIjW",
        "colab_type": "code",
        "colab": {
          "base_uri": "https://localhost:8080/",
          "height": 208
        },
        "outputId": "388916da-0c4b-4ded-8e63-dc081850ba5a"
      },
      "source": [
        "W"
      ],
      "execution_count": null,
      "outputs": [
        {
          "output_type": "execute_result",
          "data": {
            "text/plain": [
              "array([-8.71171001e-04,  3.03129112e-07,  7.81325731e-06, -1.30297499e-04,\n",
              "       -3.09538672e-05, -1.23895634e-06, -8.24091235e-05,  2.29462593e-04,\n",
              "       -5.74121950e-05,  3.51921491e-05, -1.25896649e-05, -8.38612956e-06,\n",
              "       -1.06299379e-05, -1.06863887e-05, -1.11447926e-05, -1.11408522e-05,\n",
              "       -1.03887787e-05, -1.04032788e-05, -1.05035297e-05, -1.04929530e-05,\n",
              "       -1.06330422e-05, -1.06614543e-05, -1.15148256e-05, -1.15201893e-05,\n",
              "       -1.19873550e-05, -3.96350516e-06, -2.83941806e-06,  8.68714879e-07,\n",
              "       -2.65824705e-06, -5.42131066e-06,  2.64380336e-06, -5.29163499e-06,\n",
              "        6.24465021e-07, -6.95804783e-06, -3.27674462e-06,  1.20126481e-06,\n",
              "       -1.64015134e-06, -8.94747249e-08,  1.39216335e-06, -1.38520530e-05,\n",
              "       -1.20202554e-05])"
            ]
          },
          "metadata": {
            "tags": []
          },
          "execution_count": 9
        }
      ]
    },
    {
      "cell_type": "markdown",
      "metadata": {
        "id": "krn8lnuUlU47",
        "colab_type": "text"
      },
      "source": [
        "We can see that the bias determined via gradient descent is -0.0008711710012223278 and that the bias obtained via the direct solution is -0.0008711727272727212. These values are very close to each other. Thus it is safe to use gradient descent to find a solution that very closely approximates the analytical solution if calculating the analytical solution is computationally prohibitive. Looking at the other analytical weight values and the corresponding gradient descent weights, the values are very close as well."
      ]
    },
    {
      "cell_type": "markdown",
      "metadata": {
        "colab_type": "text",
        "id": "K3xwmhsr3NHS"
      },
      "source": [
        "## Part 4 - Mini-batch and Stochastic Gradient Descent [3 marks]"
      ]
    },
    {
      "cell_type": "markdown",
      "metadata": {
        "id": "X6eT9MIB-DSa",
        "colab_type": "text"
      },
      "source": [
        "When B=1, we call that stochastic gradient descent.  When B=#train data points, it is full-batch (ie all data points are used, every cycle). Anywhere in between is mini-batch (we use some of the data).  \n",
        "\n",
        "1. Implement Mini-batch Gradient Descent. \n",
        "First try to implement it without looking at other resources, but if you need a hint take a look [here](https://towardsdatascience.com/gradient-descent-explanation-implementation-c74005ff7dd1) and [here](https://ml-cheatsheet.readthedocs.io/en/latest/gradient_descent.html).\n",
        "\n",
        "2. Sweep different values for the mini-batch size (including 1 -- Stochastic GD) with a fixed learning rate and report your findings on a plot (training error and validation error vs. iterations)."
      ]
    },
    {
      "cell_type": "code",
      "metadata": {
        "id": "9v2_FWzsxeRD",
        "colab_type": "code",
        "colab": {}
      },
      "source": [
        "# Mini-batch descent version 2\n",
        "# Adapted from https://wiseodd.github.io/techblog/2016/06/21/nn-sgd/ and my \n",
        "# previous implementation of mini-batch (I initially used np.array_split)\n",
        "\n",
        "from sklearn.utils import shuffle\n",
        "\n",
        "def mini_batch_descent(X_train, y_train, learning_rate, n_iter, batch_size, tol):\n",
        "\n",
        "  W = np.zeros(41)\n",
        "  rmse_value = 0\n",
        "  rmse_old = 1000\n",
        "\n",
        "  for ii in range(n_iter+1):\n",
        "\n",
        "    X_train, y_train = shuffle(X_train, y_train)\n",
        "\n",
        "    rmse_old = copy.deepcopy(rmse_value)\n",
        "\n",
        "    for i in range(0, X_train.shape[0], batch_size):\n",
        "\n",
        "      #rmse_old = copy.deepcopy(rmse_value)\n",
        "      # print(rmse_old)\n",
        "      X_batch = X_train[i:i + batch_size]\n",
        "      y_batch = y_train[i:i + batch_size]\n",
        "      y_pred_batch = calculate_values(W, X_batch)\n",
        "      error = calculate_error(y_pred_batch, y_batch)\n",
        "      W = update_weights(X_batch, error, W, learning_rate)\n",
        "      y_pred = calculate_values(W, X_train)\n",
        "      rmse_value = rmse(y_pred, y_train)\n",
        "      # print(rmse_value)\n",
        "      # print(abs(rmse_value - rmse_old))\n",
        "\n",
        "    if abs(rmse_value - rmse_old) <= tol:\n",
        "      break\n",
        "    else:\n",
        "      continue\n",
        "\n",
        "  return W, ii \n",
        "  "
      ],
      "execution_count": null,
      "outputs": []
    },
    {
      "cell_type": "code",
      "metadata": {
        "id": "KNJW4s9Trcf-",
        "colab_type": "code",
        "colab": {
          "base_uri": "https://localhost:8080/",
          "height": 69
        },
        "outputId": "3c711940-4958-42e5-81a1-6c0faae27e31"
      },
      "source": [
        "W, ii = mini_batch_descent(X_train, y_train, 0.01, 1000, 1000, 1e-8)\n",
        "print(ii)\n",
        "\n",
        "print(W[0])\n",
        "print(W_an[-1])"
      ],
      "execution_count": null,
      "outputs": [
        {
          "output_type": "stream",
          "text": [
            "30\n",
            "-0.0008703196208756466\n",
            "-0.0008711727272727212\n"
          ],
          "name": "stdout"
        }
      ]
    },
    {
      "cell_type": "markdown",
      "metadata": {
        "id": "oC3II_wO0-fb",
        "colab_type": "text"
      },
      "source": [
        "The solution converges to a solution close to the analytical solution in a significantly lower number of epochs."
      ]
    },
    {
      "cell_type": "code",
      "metadata": {
        "id": "SPLOBJKCSTP_",
        "colab_type": "code",
        "colab": {}
      },
      "source": [
        "# Import ploting libraries\n",
        "import matplotlib.pyplot as plt\n",
        "\n",
        "# Sweep batch sizes and report training and test RMSE\n",
        "batch_sizes = []\n",
        "training_rmse = []\n",
        "test_rmse = []\n",
        "iters = []\n",
        "\n",
        "# Checking a few manually selected values to save on computational\n",
        "# time\n",
        "for batch_size in [100, 200, 400, 1000, 2000]:\n",
        "\n",
        "  W, ii = mini_batch_descent(X_train, y_train, 0.01, 200, \n",
        "                                        batch_size,  1e-8)\n",
        "  \n",
        "  y_pred_train = np.dot(X_train, W[1:]) + W[0]\n",
        "  y_pred_test = np.dot(X_test, W[1:]) + W[0] \n",
        "\n",
        "  # Errors\n",
        "  cur_train_rmse = rmse(y_pred_train, y_train)\n",
        "  cur_test_rmse = rmse(y_pred_test, y_test)\n",
        "\n",
        "  # Append everything to the lists\n",
        "  batch_sizes.append(batch_size)\n",
        "  training_rmse.append(cur_train_rmse)\n",
        "  test_rmse.append(cur_test_rmse)\n",
        "  iters.append(ii)"
      ],
      "execution_count": null,
      "outputs": []
    },
    {
      "cell_type": "code",
      "metadata": {
        "id": "tCNxHe82IUpj",
        "colab_type": "code",
        "colab": {
          "base_uri": "https://localhost:8080/",
          "height": 279
        },
        "outputId": "e3b3f849-87ee-43da-9375-46c4023a6958"
      },
      "source": [
        "# Plot the results \n",
        "plt.plot(batch_sizes, training_rmse, label=\"Training RMSE\")\n",
        "plt.plot(batch_sizes, test_rmse, label=\"Test RMSE\")\n",
        "plt.xlabel(\"Batch size\")\n",
        "plt.ylabel(\"RMSE\") \n",
        "plt.legend()\n",
        "plt.show()"
      ],
      "execution_count": null,
      "outputs": [
        {
          "output_type": "display_data",
          "data": {
            "image/png": "[encoded data removed]",
            "text/plain": [
              "<Figure size 432x288 with 1 Axes>"
            ]
          },
          "metadata": {
            "tags": [],
            "needs_background": "light"
          }
        }
      ]
    },
    {
      "cell_type": "code",
      "metadata": {
        "id": "ne6p8FqZ-31n",
        "colab_type": "code",
        "colab": {
          "base_uri": "https://localhost:8080/",
          "height": 69
        },
        "outputId": "36e6266b-91cb-4658-c8e8-3b877fb6fc2a"
      },
      "source": [
        "print(training_rmse)\n",
        "print(test_rmse)\n",
        "print(iters)"
      ],
      "execution_count": null,
      "outputs": [
        {
          "output_type": "stream",
          "text": [
            "[0.00017463986332655316, 0.00017417177368815479, 0.00017423461173396635, 0.00017426238770055862, 0.00017446088116580512]\n",
            "[0.00017273056281851053, 0.00017195208418669086, 0.0001723792447791745, 0.00017238278019079576, 0.00017231698506895365]\n",
            "[102, 27, 20, 28, 43]\n"
          ],
          "name": "stdout"
        }
      ]
    },
    {
      "cell_type": "code",
      "metadata": {
        "id": "9K8j0XZCPtPv",
        "colab_type": "code",
        "colab": {
          "base_uri": "https://localhost:8080/",
          "height": 34
        },
        "outputId": "9cfc45be-b84b-4c8f-dbb3-462808d2e960"
      },
      "source": [
        "iterations = [119*X_train.shape[0]/100, 51*X_train.shape[0]/200,\n",
        "              18*X_train.shape[0]/400, 22*X_train.shape[0]/1000,\n",
        "              49*X_train.shape[0]/2000]\n",
        "\n",
        "print(iterations)"
      ],
      "execution_count": null,
      "outputs": [
        {
          "output_type": "stream",
          "text": [
            "[13090.0, 2805.0, 495.0, 242.0, 269.5]\n"
          ],
          "name": "stdout"
        }
      ]
    },
    {
      "cell_type": "code",
      "metadata": {
        "id": "Kh3rsfnLPAgg",
        "colab_type": "code",
        "colab": {
          "base_uri": "https://localhost:8080/",
          "height": 279
        },
        "outputId": "c163725e-6b4c-422e-aca0-ab7b90ad7d15"
      },
      "source": [
        "plt.plot(iterations, training_rmse, label=\"Training RMSE\")\n",
        "plt.plot(iterations, test_rmse, label=\"Test RMSE\")\n",
        "plt.legend()\n",
        "plt.xlabel(\"Iterations\")\n",
        "plt.ylabel(\"RMSE\")\n",
        "plt.show()"
      ],
      "execution_count": null,
      "outputs": [
        {
          "output_type": "display_data",
          "data": {
            "image/png": "[encoded data removed]",
            "text/plain": [
              "<Figure size 432x288 with 1 Axes>"
            ]
          },
          "metadata": {
            "tags": [],
            "needs_background": "light"
          }
        }
      ]
    },
    {
      "cell_type": "code",
      "metadata": {
        "id": "OM13Umn1SYep",
        "colab_type": "code",
        "colab": {
          "base_uri": "https://localhost:8080/",
          "height": 69
        },
        "outputId": "4e151f3e-8fc3-44b5-c703-e782eb28fda5"
      },
      "source": [
        "W, ii = mini_batch_descent(X_train, y_train, 0.01, 5, 1, 1e-8)\n",
        "print(ii)\n",
        "\n",
        "print(W[0])\n",
        "print(W_an[-1])"
      ],
      "execution_count": null,
      "outputs": [
        {
          "output_type": "stream",
          "text": [
            "5\n",
            "-3.788707271603544e+57\n",
            "-0.0008711727272727212\n"
          ],
          "name": "stdout"
        }
      ]
    },
    {
      "cell_type": "markdown",
      "metadata": {
        "id": "AC-tP2T5wGxj",
        "colab_type": "text"
      },
      "source": [
        "Using SGD does not converge correctly, resulting in RMSE for training and test data that explodes to a very large value and produces numpy overflow errors. It appears that with a batch size >= 250, the solution converges. Larger batch sizes such as 2000 perform fewer weight updates per epoch. 2000 seems to require very few updates to converge, and performs slightly better than a batch size of 1000."
      ]
    },
    {
      "cell_type": "markdown",
      "metadata": {
        "id": "m0XR0IpjlJwN",
        "colab_type": "text"
      },
      "source": [
        "## Part 5 - Learning Rate [2 marks]\n",
        "Select the best batch size based on fastest convergence (number of times you update the weights) and sweep the learning rate while applying Mini-batch GD. Report your findings on a plot.\n"
      ]
    },
    {
      "cell_type": "code",
      "metadata": {
        "id": "xRi2Fz28So9H",
        "colab_type": "code",
        "colab": {
          "base_uri": "https://localhost:8080/",
          "height": 290
        },
        "outputId": "7042acdd-c785-4b8f-f457-f0f554fac14e"
      },
      "source": [
        "# Learning rate optimization\n",
        "\n",
        "learning_rmse = []\n",
        "\n",
        "for learning_rate in np.arange(0.0001, 0.1, 0.001):\n",
        "\n",
        "  W, ii = mini_batch_descent(X_train, y_train, learning_rate,\n",
        "                                              50, 2000, 1e-8)\n",
        "  \n",
        "  y_pred = np.dot(X_train, W[1:]) + W[0]\n",
        "  rmse_value = rmse(y_pred, y_train)\n",
        "  learning_rmse.append(rmse_value)\n",
        " \n",
        "learning_rates = np.arange(0.0001, 0.1, 0.001)\n",
        "\n",
        "# Plot the results \n",
        "plt.plot(learning_rates, learning_rmse, label=\"Training RMSE\")\n",
        "plt.xlabel(\"Learning Rate\")\n",
        "plt.ylabel(\"RMSE\")\n",
        "plt.show()"
      ],
      "execution_count": null,
      "outputs": [
        {
          "output_type": "display_data",
          "data": {
            "image/png": "[encoded data removed]",
            "text/plain": [
              "<Figure size 432x288 with 1 Axes>"
            ]
          },
          "metadata": {
            "tags": [],
            "needs_background": "light"
          }
        }
      ]
    },
    {
      "cell_type": "markdown",
      "metadata": {
        "id": "20Q2FS2mwn8f",
        "colab_type": "text"
      },
      "source": [
        "The figure suggests that most small learning rates (< 0.1) will work well. Smaller learning rates will converge with greater stability at the expensive of greater number of weight updates. Higher learning rates will converge to the solution faster, but have a greater risk of instability as the weights will jump around much more (noisier descent). At a learning rate of 0.1 or greater, the gradient becomes unstable and the solution diverges resulting in an extremely large RMSE."
      ]
    },
    {
      "cell_type": "markdown",
      "metadata": {
        "id": "zJllnLWSmmnv",
        "colab_type": "text"
      },
      "source": [
        "## Part 6 - Regularizers [4 marks]\n",
        "\n",
        "\n",
        "\n",
        "1.   Formula (use a text cell --markdown-- and write in latex): \n",
        "  *   Derive the Direct solution formula when a L1 regularizer ($\\lambda_1$) is employed.\n",
        "  *   Derive the Direct solution formula when a L2 regularizer ($\\lambda_2$) is employed.\n",
        "  *   Derive the Gradient Descent weight update formula when the L1 regularizer is employed.\n",
        "  *   Derive the Gradient Descent weight update formula when the L2 regularizer is employed.\n",
        "\n",
        "\n",
        "\n",
        "2.   Evaluation:\n",
        "\n",
        "  *  Apply L1 and L2 regularizers (separately) to the direct solution and plot train and validation error as a function of the $\\lambda$. Find the best regularizer ($\\lambda$) values to use in the next steps.\n",
        "\n",
        "    *   Plot mini-batch GD train error and validation error when $\\lambda_1$ regularizer is employed. (X-axis: iterations)\n",
        "\n",
        "    *   Plot mini-batch GD train error and validation error when $\\lambda_2$ regularizer is employed. (X-axis: iterations)\n",
        "\n",
        "\n",
        "\n",
        "* Summarize your findings and explain whether L1 or L2 regularizers are helping the GD convergence. Is it always safe to use a L1 regularizer? How about L2?\n",
        "\n"
      ]
    },
    {
      "cell_type": "markdown",
      "metadata": {
        "id": "Ie46njKtzn67",
        "colab_type": "text"
      },
      "source": [
        "**L2 Regularization**\n",
        "\n",
        "$J(w) = \\frac{1}{2N}\\sum^{N}_{i=1}(\\sum^{k}_{j=1}x_{ij}w_{j} + w_0 - y_i)^{2} + \\lambda\\sum^{k}_{j=1}(w_{j})^{2}$\n",
        "\n",
        "We seek to find a $w$ to minimize this cost function. Do do so we must take the derivation of this cost function with respect to W, set the function to 0, and then solve for the analytical solution. We can ignore the constant $\\frac{1}{2N} as it just scales the cost.\n",
        "\n",
        "This function can also be written as...\n",
        "\n",
        "$J(w) = \\frac{1}{2N}(Xw - y)^{T}(Xw - y)+ \\lambda w^{T}w$\n",
        "\n",
        "Expanding...\n",
        "\n",
        "$J(w) = ((Xw)^{T} - y^{t})(Xw - y) + \\lambda w^{T}w$\n",
        "\n",
        "$J(w) = (Xw)^{T}(Xw) - (Xw)^{T}y - y^{T}(Xw) + y^{T}y + \\lambda w^{T}w$\n",
        "\n",
        "$J(w) = (Xw)^{T}(Xw) - 2y^{T}(Xw) + y^{T}y + \\lambda w^{T}w$\n",
        "\n",
        "Taking the derivative we get\n",
        "\n",
        "$\\frac{dJ(w)}{dw} = X^{T}Xw + X^{T}Xw - 2X^{T}y + \\lambda2w$\n",
        "\n",
        "$\\frac{dJ(w)}{dw} = 2X^{T}Xw - 2X^{T}y + \\lambda2w$\n",
        "\n",
        "And so the gradient descent equation would be \n",
        "\n",
        "$ w_{i+1} = w_{i} - \\alpha(\\frac{dJ(w)}{dw})$\n",
        "\n",
        "Where $\\alpha$ is the selected learning rate\n",
        "\n",
        "or in the case of individual gradients \n",
        "\n",
        "$j > 0, \\frac{dJ(w_j)}{dw_j} = \\frac{1}{N}\\sum^{N}_{i=1}(\\sum^{k}_{j=1}x_{ij}w_{j} + w_0 - y_i)x_{ij} + \\lambda2(w_{j})$\n",
        "\n",
        "$\\frac{dJ(w_0)}{dw_0} = \\frac{1}{N}\\sum^{N}_{i=1}(\\sum^{k}_{j=1}x_{ij}w_{j} + w_0 - y_i)$\n",
        "\n",
        "Set the derivative equal to 0 to solve for the analytical solution\n",
        "\n",
        "$2X^{T}Xw - 2X^{T}y + \\lambda2w = 0$\n",
        "\n",
        "$X^{T}Xw - X^{T}y + \\lambda w = 0$\n",
        "\n",
        "$X^TXw +\\lambda w = X^{T}y$\n",
        "\n",
        "$(X^{T}X + \\lambda I)w = X^{T}y$\n",
        "\n",
        "$w = (X^{T}X + \\lambda I)^{-1}(X^{T}y)$\n",
        "\n",
        "**References:** http://www.gatsby.ucl.ac.uk/teaching/courses/sntn/sntn-2017/resources/Matrix_derivatives_cribsheet.pdf\n",
        "\n",
        "Class notes on linear regression analytical solution\n",
        "\n",
        "https://towardsdatascience.com/analytical-solution-of-linear-regression-a0e870b038d5\n",
        "\n",
        "\n",
        "\n"
      ]
    },
    {
      "cell_type": "markdown",
      "metadata": {
        "id": "0uDW0sx5_FZF",
        "colab_type": "text"
      },
      "source": [
        "**L1 Regularization**\n",
        "\n",
        "The work is very similar, and I am reusing a lot of what was derived above.\n",
        "\n",
        "$J(w) = \\frac{1}{2N}\\sum^{N}_{i=1}(\\sum^{k}_{j=1}x_{ij}w_{j} + w_0 - y_i)^{2} + \\lambda\\sum^{k}_{j=1}|w_{j}|$\n",
        "\n",
        "Dropping the same constant and converting to vector form\n",
        "\n",
        "$J(w) = (Xw - y)^{T}(Xw - y)+ \\lambda||w||_{1}$\n",
        "\n",
        "Simplify in the same manner as above, and take the derivative to get\n",
        "\n",
        "$\\frac{dJ(w)}{dw} = 2X^{T}Xw - 2X^{T}y + \\lambda\\frac{d||w||_1}{dw}$\n",
        "\n",
        "Setting equal to 0\n",
        "\n",
        "$2X^TXw - 2X^{T}y +\\lambda\\frac{d||w||_1}{dw} = 0$\n",
        "\n",
        "No direct solution like in the case of L2 regularization...\n",
        "\n",
        "This is because the L1 norm derivative is not defined. However, we can take subgradients with respect to each weight as the derivative of the absolute value of a variable is defined.\n",
        "\n",
        "Should have to solve for the gradient of the cost with respect to each weight in the weight vector and use gradient descent...\n",
        "\n",
        "$ j \\neq 0, \\frac{dJ(w)}{dw_j} = \\frac{2}{2N}\\sum^{N}_{i=1}(\\sum^{k}_{j=1}x_{ij}w_{j} + w_0 - y_i)x_{ij} + \\lambda\\frac{d|w_j|}{w_j}  = 0$\n",
        "\n",
        "$ j = 0, \\frac{dJ(w)}{dw_0} = \\frac{2}{2N}\\sum^{N}_{i=1}(\\sum^{k}_{j=1}x_{ij}w_{j} + w_0 - y_i)+ \\lambda\\frac{d|w_0|}{w_0}  = 0$\n",
        "\n",
        "where $\\frac{d|w_j|}{dw_j} = 1$ if $w_j > 0$ or $-1$ if $w_j < 0$\n",
        "\n",
        "Can multiply by N to simply these equations further, and this is really just our standard gradient descent with an additional tunable parameter to shrink large weights.\n",
        "\n",
        "\n",
        "\n"
      ]
    },
    {
      "cell_type": "code",
      "metadata": {
        "id": "_DCAL3zNBeWr",
        "colab_type": "code",
        "colab": {}
      },
      "source": [
        "# Analytical solution with L2 regularization\n",
        "\n",
        "y_train_errors = []\n",
        "y_test_errors = []\n",
        "\n",
        "for L2_const in np.arange(0.01, 5, 0.01):\n",
        "  \n",
        "  W_an_L2 = np.dot(np.linalg.inv(np.dot(X_train_an.T, X_train_an) + L2_const*np.identity(41)),\n",
        "              np.dot(X_train_an.T, y_train))\n",
        "  \n",
        "  y_pred_train = np.dot(X_train_an, W_an_L2)\n",
        "  train_error = rmse(y_pred_train, y_train)\n",
        "  y_train_errors.append(train_error)\n",
        "  \n",
        "  y_pred_test = np.dot(X_test_an, W_an_L2)\n",
        "  test_error = rmse(y_pred_test, y_test)\n",
        "  y_test_errors.append(test_error)"
      ],
      "execution_count": null,
      "outputs": []
    },
    {
      "cell_type": "code",
      "metadata": {
        "id": "sG2xzhYRnRxU",
        "colab_type": "code",
        "colab": {
          "base_uri": "https://localhost:8080/",
          "height": 295
        },
        "outputId": "2a0d02f9-87c8-4505-926f-9298dc85b752"
      },
      "source": [
        "plt.plot(list(np.arange(0.01, 5, 0.01)), y_train_errors, label = \"Training RMSE\")\n",
        "plt.plot(list(np.arange(0.01, 5, 0.01)), y_test_errors, label = \"Test RMSE\")\n",
        "plt.legend()\n",
        "plt.xlabel(\"L2 Constant\")\n",
        "plt.ylabel(\"RMSE\")\n",
        "plt.title(\"RMSE vs L2 Constant\")\n",
        "plt.show()"
      ],
      "execution_count": null,
      "outputs": [
        {
          "output_type": "display_data",
          "data": {
            "image/png": "[encoded data removed]",
            "text/plain": [
              "<Figure size 432x288 with 1 Axes>"
            ]
          },
          "metadata": {
            "tags": [],
            "needs_background": "light"
          }
        }
      ]
    },
    {
      "cell_type": "code",
      "metadata": {
        "id": "saVKxyaFpQ96",
        "colab_type": "code",
        "colab": {}
      },
      "source": [
        "# L2 Regularization Gradient Descent \n",
        "\n",
        "def L2_update_weights(X, error, W, learning_rate, L2_const):\n",
        "\n",
        "  # Ask about dropping the 2 \n",
        "  loss_1 = -2*(learning_rate/X.shape[0])*(np.dot(error, X)) + (2*L2_const)*W[1:]\n",
        "  loss_2 = -2*learning_rate*error.sum()/X.shape[0]\n",
        "  W[1:] = W[1:] - loss_1\n",
        "  W[0] = W[0] - loss_2\n",
        "  return W\n",
        "\n",
        "def L2_mini_batch_descent(X_train, y_train, learning_rate, n_iter, batch_size, tol,\n",
        "                          L2_const):\n",
        "\n",
        "  W = np.zeros(41)\n",
        "  rmse_value = 0\n",
        "  rmse_old = 0\n",
        "\n",
        "  for ii in range(n_iter+1):\n",
        "    X_train, y_train = shuffle(X_train, y_train)\n",
        "\n",
        "    for i in range(0, X_train.shape[0], batch_size):\n",
        "      \n",
        "      X_train, y_trian = shuffle(X_train, y_train)\n",
        "\n",
        "      rmse_old = copy.deepcopy(rmse_value)\n",
        "      X_batch = X_train[i:i + batch_size]\n",
        "      y_batch = y_train[i:i + batch_size]\n",
        "      y_pred = calculate_values(W, X_batch)\n",
        "      error = calculate_error(y_pred, y_batch)\n",
        "      W = L2_update_weights(X_batch, error, W, learning_rate, 0.1)\n",
        "      rmse_value = rmse(y_pred, y_batch)\n",
        "\n",
        "    if abs(rmse_value - rmse_old) <= tol:\n",
        "       break\n",
        "    else:\n",
        "      continue\n",
        "\n",
        "  return W, ii \n",
        "  "
      ],
      "execution_count": null,
      "outputs": []
    },
    {
      "cell_type": "code",
      "metadata": {
        "id": "2LqO_TGqvJKr",
        "colab_type": "code",
        "colab": {
          "base_uri": "https://localhost:8080/",
          "height": 121
        },
        "outputId": "7d34cf3d-1eb2-4efd-9e3b-8ba6037db6d7"
      },
      "source": [
        "# For timing function speed\n",
        "import time\n",
        "\n",
        "start_time = time.time()\n",
        "W, ii = L2_mini_batch_descent(X_train, y_train, 0.01, 1000, 2000, 1e-8, 0.001)\n",
        "y_pred_L2 = np.dot(X_train, W[1:]) + W[0]\n",
        "rmse_200_epochs_L2 = rmse(y_pred_L2, y_train)\n",
        "print(rmse_200_epochs_L2)\n",
        "print(time.time() - start_time)\n",
        "print(ii)\n",
        "\n",
        "\n",
        "start_time = time.time()\n",
        "W, ii = mini_batch_descent(X_train, y_train, 0.01, 1000, 2000, 1e-8)\n",
        "y_pred_train = np.dot(X_train, W[1:]) + W[0]\n",
        "error_for_comparison = rmse(y_pred_train, y_train)\n",
        "print(error_for_comparison)\n",
        "print(time.time() - start_time)\n",
        "print(ii)\n"
      ],
      "execution_count": null,
      "outputs": [
        {
          "output_type": "stream",
          "text": [
            "0.00041031172606443813\n",
            "12.731532335281372\n",
            "595\n",
            "0.00017431553500767906\n",
            "0.36060547828674316\n",
            "48\n"
          ],
          "name": "stdout"
        }
      ]
    },
    {
      "cell_type": "markdown",
      "metadata": {
        "id": "LanSHN_vv4Pa",
        "colab_type": "text"
      },
      "source": [
        "The L2 regularized model does not reach an RMSE as close to the analytical RMSE when compared to the unregularized model. This makes sense as the function of L2 regularization is to prevent overfitting. Whichever direction the unregularized gradient wants to \"push\" a weight $w_j$, the L2 regularization \"pushes\" in the opposite direction. So if the standard gradient says to increased $w_j$ the L2 regularization term will decrease the amount by which $w_j$ is increased. Really L2 regularization is just applying a constraint to our weights, and the gradient becomes a Lagrangian optimization. The unregularized model also converges faster, which makes sense as the regularization term reduces the aggressiveness of the descent."
      ]
    },
    {
      "cell_type": "code",
      "metadata": {
        "id": "UhP5x722yAGt",
        "colab_type": "code",
        "colab": {}
      },
      "source": [
        "# L1 Regularization Gradient Descent \n",
        "\n",
        "def L1_update_weights(X, error, W, learning_rate, L1_const):\n",
        "\n",
        "  signs = [L1_const if weight >= 0 else -L1_const for weight in W[1:]]\n",
        "  # Ask about dropping the 2 \n",
        "  #print(L1_const*signs)\n",
        "  loss_1 = -2*(learning_rate/X.shape[0])*(np.dot(error, X)) + signs\n",
        "  loss_2 = -2*learning_rate*error.sum()/X.shape[0]\n",
        "  W[1:] = W[1:] - loss_1\n",
        "  W[0] = W[0] - loss_2\n",
        "  return W\n",
        "\n",
        "def L1_mini_batch_descent(X_train, y_train, learning_rate, n_iter, batch_size, tol,\n",
        "                          L1_const):\n",
        "\n",
        "  W = np.zeros(41)\n",
        "  rmse_value = 0\n",
        "  rmse_old = 0\n",
        "\n",
        "  for ii in range(n_iter+1):\n",
        "    X_train, y_train = shuffle(X_train, y_train)\n",
        "\n",
        "    for i in range(0, X_train.shape[0], batch_size):\n",
        "      \n",
        "      X_train, y_trian = shuffle(X_train, y_train)\n",
        "\n",
        "      rmse_old = copy.deepcopy(rmse_value)\n",
        "      X_batch = X_train[i:i + batch_size]\n",
        "      y_batch = y_train[i:i + batch_size]\n",
        "      y_pred = calculate_values(W, X_batch)\n",
        "      error = calculate_error(y_pred, y_batch)\n",
        "      W = L1_update_weights(X_batch, error, W, learning_rate, L1_const)\n",
        "      rmse_value = rmse(y_pred, y_batch)\n",
        "\n",
        "    if abs(rmse_value - rmse_old) <= tol:\n",
        "       break\n",
        "    else:\n",
        "      continue\n",
        "\n",
        "  return W, ii"
      ],
      "execution_count": null,
      "outputs": []
    },
    {
      "cell_type": "code",
      "metadata": {
        "id": "Xi62gFHILbnG",
        "colab_type": "code",
        "colab": {}
      },
      "source": [
        "# L1 regularization constant\n",
        "\n",
        "training_errors = []\n",
        "test_errors = []\n",
        "\n",
        "for L1_const in np.arange(0.01, 0.5, 0.05):\n",
        "\n",
        "  W, ii = L1_mini_batch_descent(X_train, y_train, 0.01, 1000, 2000, 1e-8, \n",
        "                                L1_const)\n",
        "\n",
        "  # Training and Test RMSE \n",
        "  y_pred_train = np.dot(X_train, W[1:]) + W[0]\n",
        "  training_error = rmse(y_pred_train, y_train)\n",
        "  training_errors.append(training_error)\n",
        "\n",
        "  y_pred_test = np.dot(X_test, W[1:]) + W[0]\n",
        "  test_error = rmse(y_pred_test, y_test)\n",
        "  test_errors.append(test_error)"
      ],
      "execution_count": null,
      "outputs": []
    },
    {
      "cell_type": "code",
      "metadata": {
        "id": "a5hvZv8gMruB",
        "colab_type": "code",
        "colab": {
          "base_uri": "https://localhost:8080/",
          "height": 295
        },
        "outputId": "8f4f622a-3c33-49c0-81f2-b7438905281f"
      },
      "source": [
        "x_range = list(np.arange(0.01, 0.5, 0.05))\n",
        "\n",
        "plt.plot(x_range, training_errors, label = \"Training RMSE\")\n",
        "plt.plot(x_range, test_errors, label = \"Test RMSE\")\n",
        "plt.xlabel(\"L1 Constant Value\")\n",
        "plt.ylabel(\"RMSE\")\n",
        "plt.legend()\n",
        "plt.title(\"RMSE vs L1 Regularization Constant\")\n",
        "plt.show()"
      ],
      "execution_count": null,
      "outputs": [
        {
          "output_type": "display_data",
          "data": {
            "image/png": "[encoded data removed]",
            "text/plain": [
              "<Figure size 432x288 with 1 Axes>"
            ]
          },
          "metadata": {
            "tags": [],
            "needs_background": "light"
          }
        }
      ]
    },
    {
      "cell_type": "code",
      "metadata": {
        "id": "NdRh4AI6LYPR",
        "colab_type": "code",
        "colab": {
          "base_uri": "https://localhost:8080/",
          "height": 121
        },
        "outputId": "64cd7e78-d39c-4e97-fd38-4fa2a40234ba"
      },
      "source": [
        "import time\n",
        "start_time = time.time()\n",
        "W, ii = L1_mini_batch_descent(X_train, y_train, 0.01, 1000, 2000, 1e-8, 0.001)\n",
        "y_pred_L1 = np.dot(X_train, W[1:]) + W[0]\n",
        "rmse_200_epochs_L1 = rmse(y_pred_L1, y_train)\n",
        "print(rmse_200_epochs_L1)\n",
        "print(time.time() - start_time)\n",
        "print(ii)\n",
        "\n",
        "start_time = time.time()\n",
        "W, ii = mini_batch_descent(X_train, y_train, 0.01, 1000, 2000, 1e-8)\n",
        "y_pred_train = np.dot(X_train, W[1:]) + W[0]\n",
        "error_for_comparison = rmse(y_pred_train, y_train)\n",
        "print(error_for_comparison)\n",
        "print(time.time() - start_time)\n",
        "print(ii)"
      ],
      "execution_count": null,
      "outputs": [
        {
          "output_type": "stream",
          "text": [
            "0.011246928481367099\n",
            "24.171682596206665\n",
            "1000\n",
            "0.00017434839681185088\n",
            "0.32031798362731934\n",
            "47\n"
          ],
          "name": "stdout"
        }
      ]
    },
    {
      "cell_type": "markdown",
      "metadata": {
        "id": "sQPHTCjDS_ag",
        "colab_type": "text"
      },
      "source": [
        "Since L1 regularization shrinks model weights towards 0 to reduce overfitting, it is appropriate for situations in which there are a large number of model parameters and a small amount of data. L1 regularization can be seen as a type of feature selection. L2 regularization shrinks weights less aggressively. We can see above that L1, even with a small constant, aggressively increases the RMSE, and makes convergence take many more iterations in comparison to the unregulated model."
      ]
    },
    {
      "cell_type": "markdown",
      "metadata": {
        "colab_type": "text",
        "id": "_APuh43i3NHU"
      },
      "source": [
        "## Part 7 - Introducing Momentum [4 marks]"
      ]
    },
    {
      "cell_type": "markdown",
      "metadata": {
        "colab_type": "text",
        "id": "MabNnVcW3NHU"
      },
      "source": [
        "Momentum is a popular technique that helps the gradient descent algorithm to converge faster. Simply, it behaves like a moving average of gradients. First, take a look at [here](https://towardsdatascience.com/stochastic-gradient-descent-with-momentum-a84097641a5d) to get familiar with the concept.\n",
        "\n",
        "To summarize, If the weight update formula in the time-step $t$ is $w_t = w_{t-1} - \\alpha~g_t$, the $g_t$ using momentum could be computed as $g_t = \\beta~g_{t-1} + (1-\\beta) \\frac{{\\partial J}}{\\partial w}$. $\\beta$ is the momentum coefficient, between [0, 1]. Weight updates ($g_t$) with momentum are not only computed based on the derivative of the loss function but also is a function of previous weight updates.\n",
        "\n",
        "If you put $\\beta=0$ in the $g_t$ equation, it would be the original gradient descent method. \n",
        "\n",
        "Train a linear model with a regularizer and various values of momentums. Plot your training and validation error for each iteration. Comment on the effect of momentum."
      ]
    },
    {
      "cell_type": "code",
      "metadata": {
        "id": "J6y-mK8r5TD3",
        "colab_type": "code",
        "colab": {}
      },
      "source": [
        "def update_weights_momentum(X, error, W, learning_rate, beta,\n",
        "                            gradient_1, gradient_2):\n",
        "\n",
        "  # Ask about dropping the 2 \n",
        "  loss_1 = -2*(learning_rate/X.shape[0])*(np.dot(error, X))\n",
        "  #loss_1 = -1*(learning_rate)*(np.dot(error, X))\n",
        "  loss_2 = -2*learning_rate*error.sum()/X.shape[0]\n",
        "  #loss_2 = -1*(learning_rate)*error.sum()\n",
        "  gradient_1 = (1 - beta)*loss_1 + beta*learning_rate*gradient_1\n",
        "  gradient_2 = (1 - beta)*loss_2 + beta*learning_rate*gradient_2\n",
        "  #gradient_2 = 0\n",
        "  \n",
        "  W[1:] = W[1:] - gradient_1\n",
        "  W[0] = W[0] - gradient_2\n",
        "\n",
        "  return W, gradient_1, gradient_2\n",
        "\n",
        "def mini_batch_descent_momentum(X_train, y_train, X_test, y_test,\n",
        "                                learning_rate, n_iter, batch_size, tol, beta):\n",
        "\n",
        "  W = np.zeros(41)\n",
        "  rmse_value = 0\n",
        "  rmse_old = 0\n",
        "  gradient_1 = np.zeros(40)\n",
        "  gradient_2 = 0\n",
        "  train_rmse_values = []\n",
        "  test_rmse_values = []\n",
        "\n",
        "  for ii in range(n_iter+1):\n",
        "    \n",
        "    X_train, y_train = shuffle(X_train, y_train)\n",
        "    y_train_pred = np.dot(X_train, W[1:]) + W[0]\n",
        "    train_rmse_value = rmse(y_train_pred, y_train)\n",
        "    train_rmse_values.append(train_rmse_value)\n",
        "\n",
        "    y_test_pred = np.dot(X_test, W[1:]) + W[0]\n",
        "    test_rmse_value = rmse(y_test_pred, y_test)\n",
        "    test_rmse_values.append(test_rmse_value)\n",
        "\n",
        "    for i in range(0, X_train.shape[0], batch_size):\n",
        "\n",
        "      rmse_old = copy.deepcopy(rmse_value)\n",
        "      X_batch = X_train[i:i + batch_size]\n",
        "      y_batch = y_train[i:i + batch_size]\n",
        "      y_pred = calculate_values(W, X_batch)\n",
        "      error = calculate_error(y_pred, y_batch)\n",
        "      W, gradient_1, gradient_2 = update_weights_momentum(X_batch, error, W, \n",
        "                                                          learning_rate, beta,\n",
        "                                                          gradient_1, \n",
        "                                                          gradient_2)\n",
        "      \n",
        "      rmse_value = rmse(y_pred, y_batch)\n",
        "\n",
        "\n",
        "    if abs(rmse_value - rmse_old) <= tol:\n",
        "       break\n",
        "    else:\n",
        "      continue\n",
        "\n",
        "  return W, ii, train_rmse_values, test_rmse_values"
      ],
      "execution_count": null,
      "outputs": []
    },
    {
      "cell_type": "code",
      "metadata": {
        "id": "fH6JuIOcLpVr",
        "colab_type": "code",
        "colab": {}
      },
      "source": [
        "W, ii, train_rmse_values, test_rmse_values = mini_batch_descent_momentum(X_train, \n",
        "                                                                         y_train, \n",
        "                                                                         X_test, \n",
        "                                                                         y_test, \n",
        "                                                                         0.01, \n",
        "                                                                         1000, \n",
        "                                                                         2000, \n",
        "                                                                         1e-8, \n",
        "                                                                         0.5)\n",
        "\n",
        "W, ii_2, train_rmse_values_2, test_rmse_values_2 = mini_batch_descent_momentum(X_train, \n",
        "                                                                             y_train, \n",
        "                                                                             X_test, \n",
        "                                                                             y_test, \n",
        "                                                                             0.01, \n",
        "                                                                             1000, \n",
        "                                                                             2000, \n",
        "                                                                             1e-8, \n",
        "                                                                             0.2)\n",
        "\n",
        "W, ii_3, train_rmse_values_3, test_rmse_values_3 = mini_batch_descent_momentum(X_train, \n",
        "                                                                             y_train, \n",
        "                                                                             X_test, \n",
        "                                                                             y_test, \n",
        "                                                                             0.01, \n",
        "                                                                             1000, \n",
        "                                                                             2000, \n",
        "                                                                             1e-8, \n",
        "                                                                             0.9)\n",
        "\n",
        "W, ii_4, train_rmse_values_4, test_rmse_values_4 = mini_batch_descent_momentum(X_train, \n",
        "                                                                             y_train, \n",
        "                                                                             X_test, \n",
        "                                                                             y_test, \n",
        "                                                                             0.01, \n",
        "                                                                             1000, \n",
        "                                                                             2000, \n",
        "                                                                             1e-8, \n",
        "                                                                             0.0)"
      ],
      "execution_count": null,
      "outputs": []
    },
    {
      "cell_type": "code",
      "metadata": {
        "id": "hmZ0eBARRdxJ",
        "colab_type": "code",
        "colab": {
          "base_uri": "https://localhost:8080/",
          "height": 295
        },
        "outputId": "81b5932d-7711-4052-e149-4b5ca3aef1eb"
      },
      "source": [
        "plot_range = list(range(1, ii+2))\n",
        "plot_range_2 = list(range(1, ii_2+2))\n",
        "plot_range_3 = list(range(1, ii_3+2))\n",
        "plot_range_4 = list(range(1, ii_4+2))\n",
        "\n",
        "plt.plot(plot_range, train_rmse_values, \"g\", label=\"Beta = 0.5: Training RMSE\")\n",
        "plt.plot(plot_range, test_rmse_values, \"g--\", label=\"Beta = 0.5: Test RMSE\")\n",
        "plt.plot(plot_range_2, train_rmse_values_2, \"r\", label=\"Beta = 0.2: Training RMSE\")\n",
        "plt.plot(plot_range_2, test_rmse_values_2, \"r--\", label=\"Beta = 0.2: Test RMSE\")\n",
        "plt.plot(plot_range_3, train_rmse_values_3, \"m\", label=\"Beta = 0.9: Training RMSE\")\n",
        "plt.plot(plot_range_3, test_rmse_values_3, \"m--\", label=\"Beta = 0.9: Test RMSE\")\n",
        "plt.plot(plot_range_4, train_rmse_values_4, \"b\", label=\"Beta = 0.0: Training RMSE\")\n",
        "plt.plot(plot_range_4, test_rmse_values_4, \"b--\", label=\"Beta = 0.0: Test RMSE\")\n",
        "plt.title(\"Beta Optimization: RMSE vs Epochs\")\n",
        "plt.xlabel(\"Epochs\")\n",
        "plt.ylabel(\"RMSE\")\n",
        "plt.legend()\n",
        "plt.show()"
      ],
      "execution_count": null,
      "outputs": [
        {
          "output_type": "display_data",
          "data": {
            "image/png": "[encoded data removed]",
            "text/plain": [
              "<Figure size 432x288 with 1 Axes>"
            ]
          },
          "metadata": {
            "tags": [],
            "needs_background": "light"
          }
        }
      ]
    },
    {
      "cell_type": "markdown",
      "metadata": {
        "id": "6pZroo04-IwQ",
        "colab_type": "text"
      },
      "source": [
        "Above I programmed an implementation of momentum and plotted various values of the $\\beta$ constant. In theory momentum adds \"acceleration\" to gradient descent. It adds a fraction of the previous gradient value to the current gradient value. If the gradients are all, for example, positive then the gradient descent will increase the gradients to a greater degree. In this data set I found that momentum did not accelerate the solution convergence. This is likely because the data set is relatively straightforward, and the momentum is causing the weights to overshoot."
      ]
    },
    {
      "cell_type": "markdown",
      "metadata": {
        "colab_type": "text",
        "id": "0cS99Cxw3NHV"
      },
      "source": [
        "## Part 8 - Find a dataset online [3 marks]\n"
      ]
    },
    {
      "cell_type": "markdown",
      "metadata": {
        "id": "zIUuhPqA1WUe",
        "colab_type": "text"
      },
      "source": [
        "Find a dataset online and train a linear model with the techniques you learned to make a prediction. \n",
        "\n",
        "*   Introduce your dataset,\n",
        "*   How did you train your model,\n",
        "*   Show your results.\n",
        "\n",
        "Hint: you can find various datasets in here: https://www.kaggle.com/datasets.\n",
        "\n",
        "To use a dataset in Colab, you can upload it in your Google drive and access it in Colab ([help here](https://medium.com/analytics-vidhya/how-to-fetch-kaggle-datasets-into-google-colab-ea682569851a)), or you can download the dataset on your local machine and upload it directly to Colab using the following script.\n",
        "\n",
        "```\n",
        "from google.colab import files\n",
        "uploaded = files.upload()\n",
        "```\n",
        "\n",
        "When submitting your project on Quercus, Please make sure you are also uploading your dataset so we can fully run your notebook.\n",
        "\n",
        "\n",
        "\n",
        "\n"
      ]
    },
    {
      "cell_type": "markdown",
      "metadata": {
        "id": "vRwa1MT69cWI",
        "colab_type": "text"
      },
      "source": [
        "**Dataset Introduction:**\n",
        "\n",
        "This dataset is from the textbook \"Machine Learning with R\" by Brett Lantz. I randomly selected it from Kaggle after searching for datasets appropriate for linear regression analysis. The dataset involves using several features (some of which are categorical) to predict the insurance cost for an individual. \n",
        "\n",
        "**Dataset Modeling:**\n",
        "\n",
        "I used sklearn's built in Ridge regression function with cross-validation to select an optimal $\\lambda_{2}$ and then fit the data. \n",
        "\n",
        "The data results including data preprocessing are below."
      ]
    },
    {
      "cell_type": "code",
      "metadata": {
        "id": "pQlikNdORpfS",
        "colab_type": "code",
        "colab": {
          "base_uri": "https://localhost:8080/"
        },
        "outputId": "bc6467a8-b854-4ef0-a1e7-f88b05dac6b0"
      },
      "source": [
        "# Medical Cost Personal Database \n",
        "# Link: https://www.kaggle.com/mirichoi0218/insurance/data\n",
        "\n",
        "# Deprecated, you can upload the file via the sidebar\n",
        "# from google.colab import files\n",
        "# uploaded = files.upload()\n",
        "import pandas as pd\n",
        "import numpy as np\n",
        "\n",
        "insurance_df = pd.read_csv('insurance.csv')\n",
        "\n",
        "insurance_df.head(10)"
      ],
      "execution_count": null,
      "outputs": [
        {
          "output_type": "execute_result",
          "data": {
            "text/html": [
              "<div>\n",
              "<style scoped>\n",
              "    .dataframe tbody tr th:only-of-type {\n",
              "        vertical-align: middle;\n",
              "    }\n",
              "\n",
              "    .dataframe tbody tr th {\n",
              "        vertical-align: top;\n",
              "    }\n",
              "\n",
              "    .dataframe thead th {\n",
              "        text-align: right;\n",
              "    }\n",
              "</style>\n",
              "<table border=\"1\" class=\"dataframe\">\n",
              "  <thead>\n",
              "    <tr style=\"text-align: right;\">\n",
              "      <th></th>\n",
              "      <th>age</th>\n",
              "      <th>sex</th>\n",
              "      <th>bmi</th>\n",
              "      <th>children</th>\n",
              "      <th>smoker</th>\n",
              "      <th>region</th>\n",
              "      <th>charges</th>\n",
              "    </tr>\n",
              "  </thead>\n",
              "  <tbody>\n",
              "    <tr>\n",
              "      <th>0</th>\n",
              "      <td>19</td>\n",
              "      <td>female</td>\n",
              "      <td>27.900</td>\n",
              "      <td>0</td>\n",
              "      <td>yes</td>\n",
              "      <td>southwest</td>\n",
              "      <td>16884.92400</td>\n",
              "    </tr>\n",
              "    <tr>\n",
              "      <th>1</th>\n",
              "      <td>18</td>\n",
              "      <td>male</td>\n",
              "      <td>33.770</td>\n",
              "      <td>1</td>\n",
              "      <td>no</td>\n",
              "      <td>southeast</td>\n",
              "      <td>1725.55230</td>\n",
              "    </tr>\n",
              "    <tr>\n",
              "      <th>2</th>\n",
              "      <td>28</td>\n",
              "      <td>male</td>\n",
              "      <td>33.000</td>\n",
              "      <td>3</td>\n",
              "      <td>no</td>\n",
              "      <td>southeast</td>\n",
              "      <td>4449.46200</td>\n",
              "    </tr>\n",
              "    <tr>\n",
              "      <th>3</th>\n",
              "      <td>33</td>\n",
              "      <td>male</td>\n",
              "      <td>22.705</td>\n",
              "      <td>0</td>\n",
              "      <td>no</td>\n",
              "      <td>northwest</td>\n",
              "      <td>21984.47061</td>\n",
              "    </tr>\n",
              "    <tr>\n",
              "      <th>4</th>\n",
              "      <td>32</td>\n",
              "      <td>male</td>\n",
              "      <td>28.880</td>\n",
              "      <td>0</td>\n",
              "      <td>no</td>\n",
              "      <td>northwest</td>\n",
              "      <td>3866.85520</td>\n",
              "    </tr>\n",
              "    <tr>\n",
              "      <th>5</th>\n",
              "      <td>31</td>\n",
              "      <td>female</td>\n",
              "      <td>25.740</td>\n",
              "      <td>0</td>\n",
              "      <td>no</td>\n",
              "      <td>southeast</td>\n",
              "      <td>3756.62160</td>\n",
              "    </tr>\n",
              "    <tr>\n",
              "      <th>6</th>\n",
              "      <td>46</td>\n",
              "      <td>female</td>\n",
              "      <td>33.440</td>\n",
              "      <td>1</td>\n",
              "      <td>no</td>\n",
              "      <td>southeast</td>\n",
              "      <td>8240.58960</td>\n",
              "    </tr>\n",
              "    <tr>\n",
              "      <th>7</th>\n",
              "      <td>37</td>\n",
              "      <td>female</td>\n",
              "      <td>27.740</td>\n",
              "      <td>3</td>\n",
              "      <td>no</td>\n",
              "      <td>northwest</td>\n",
              "      <td>7281.50560</td>\n",
              "    </tr>\n",
              "    <tr>\n",
              "      <th>8</th>\n",
              "      <td>37</td>\n",
              "      <td>male</td>\n",
              "      <td>29.830</td>\n",
              "      <td>2</td>\n",
              "      <td>no</td>\n",
              "      <td>northeast</td>\n",
              "      <td>6406.41070</td>\n",
              "    </tr>\n",
              "    <tr>\n",
              "      <th>9</th>\n",
              "      <td>60</td>\n",
              "      <td>female</td>\n",
              "      <td>25.840</td>\n",
              "      <td>0</td>\n",
              "      <td>no</td>\n",
              "      <td>northwest</td>\n",
              "      <td>28923.13692</td>\n",
              "    </tr>\n",
              "  </tbody>\n",
              "</table>\n",
              "</div>"
            ],
            "text/plain": [
              "   age     sex     bmi  children smoker     region      charges\n",
              "0   19  female  27.900         0    yes  southwest  16884.92400\n",
              "1   18    male  33.770         1     no  southeast   1725.55230\n",
              "2   28    male  33.000         3     no  southeast   4449.46200\n",
              "3   33    male  22.705         0     no  northwest  21984.47061\n",
              "4   32    male  28.880         0     no  northwest   3866.85520\n",
              "5   31  female  25.740         0     no  southeast   3756.62160\n",
              "6   46  female  33.440         1     no  southeast   8240.58960\n",
              "7   37  female  27.740         3     no  northwest   7281.50560\n",
              "8   37    male  29.830         2     no  northeast   6406.41070\n",
              "9   60  female  25.840         0     no  northwest  28923.13692"
            ]
          },
          "metadata": {
            "tags": []
          },
          "execution_count": 30
        }
      ]
    },
    {
      "cell_type": "code",
      "metadata": {
        "id": "9HhGpoOgGUTD",
        "colab_type": "code",
        "colab": {}
      },
      "source": [
        "# Data preprocessing \n",
        "\n",
        "insurance_df = pd.get_dummies(insurance_df)\n",
        "\n",
        "# Put the columns back in order \n",
        "charges = insurance_df.pop(\"charges\")\n",
        "insurance_df.insert(11, charges.name, charges)"
      ],
      "execution_count": null,
      "outputs": []
    },
    {
      "cell_type": "code",
      "metadata": {
        "id": "oobx7uUdH1lT",
        "colab_type": "code",
        "colab": {}
      },
      "source": [
        "# Split and scale the data \n",
        "\n",
        "from sklearn.model_selection import train_test_split\n",
        "from sklearn.preprocessing import StandardScaler\n",
        "\n",
        "# Get the X data and the y data from the df\n",
        "\n",
        "X = insurance_df.iloc[:,:-1].values\n",
        "y = insurance_df.iloc[:,-1].values\n",
        "\n",
        "X_train, X_test, y_train, y_test = train_test_split(X, y, random_state=41,\n",
        "                                                    test_size=0.3)\n",
        "\n",
        "sc = StandardScaler()\n",
        "\n",
        "sc.fit(X_train)\n",
        "\n",
        "X_train = sc.transform(X_train)\n",
        "X_test = sc.transform(X_test)"
      ],
      "execution_count": null,
      "outputs": []
    },
    {
      "cell_type": "code",
      "metadata": {
        "id": "uDQjVsF8JpB4",
        "colab_type": "code",
        "colab": {
          "base_uri": "https://localhost:8080/",
          "height": 52
        },
        "outputId": "38d46305-a61c-4d07-f1f9-9f306ef576d6"
      },
      "source": [
        "# Perform the linear regression with L2 regularization, doing a search\n",
        "# to optimize the L2 constant\n",
        "\n",
        "from sklearn.model_selection import GridSearchCV\n",
        "from sklearn.linear_model import RidgeCV\n",
        "\n",
        "ridge = RidgeCV(cv=10)\n",
        "\n",
        "#param_grid = {\"alpha\": np.arange(0.001, 0.5, 0.001)}\n",
        "#gscv = GridSearchCV(ridge, param_grid, cv=10)\n",
        "ridge.fit(X_train, y_train)"
      ],
      "execution_count": null,
      "outputs": [
        {
          "output_type": "execute_result",
          "data": {
            "text/plain": [
              "RidgeCV(alphas=array([ 0.1,  1. , 10. ]), cv=10, fit_intercept=True,\n",
              "        gcv_mode=None, normalize=False, scoring=None, store_cv_values=False)"
            ]
          },
          "metadata": {
            "tags": []
          },
          "execution_count": 33
        }
      ]
    },
    {
      "cell_type": "code",
      "metadata": {
        "id": "ObdPqwmPM42z",
        "colab_type": "code",
        "colab": {
          "base_uri": "https://localhost:8080/"
        },
        "outputId": "0f1cd9a8-9bd3-4519-ee7c-f4921cdbc6e4"
      },
      "source": [
        "from sklearn.metrics import mean_squared_error\n",
        "\n",
        "print(ridge.score(X_train, y_train))\n",
        "print(ridge.score(X_test, y_test))"
      ],
      "execution_count": null,
      "outputs": [
        {
          "output_type": "stream",
          "text": [
            "0.7667478222446934\n",
            "0.6946238628300248\n"
          ],
          "name": "stdout"
        }
      ]
    },
    {
      "cell_type": "markdown",
      "metadata": {
        "id": "Zf68b4e0Uoij",
        "colab_type": "text"
      },
      "source": [
        "Here I implemented a ridge regression with sklearn's built in ridge regression function which implements cross-validation. The $R^2$ value for the training set is 0.7667478222446934 and the $R^2$ for the test set is 0.6946238628300248 indicating a relatively strong fit. "
      ]
    },
    {
      "cell_type": "code",
      "metadata": {
        "id": "yJ7xBjJfVBZN",
        "colab_type": "code",
        "colab": {}
      },
      "source": [
        ""
      ],
      "execution_count": null,
      "outputs": []
    }
  ]
}